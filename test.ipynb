{
 "cells": [
  {
   "cell_type": "code",
   "execution_count": 31,
   "metadata": {},
   "outputs": [],
   "source": [
    "import jax\n",
    "import jax.numpy as jnp\n",
    "from jax import random, grad, vmap, jit\n",
    "\n",
    "from ngrad.models import init_params, mlp\n",
    "from ngrad.domains import Square, SquareBoundary\n",
    "from ngrad.integrators import DeterministicIntegrator\n",
    "from ngrad.utility import laplace, grid_line_search_factory\n",
    "from ngrad.inner import model_laplace, model_identity\n",
    "from ngrad.gram import gram_factory, nat_grad_factory, pre_gram_factory"
   ]
  },
  {
   "cell_type": "code",
   "execution_count": 2,
   "metadata": {},
   "outputs": [],
   "source": [
    "jax.config.update(\"jax_enable_x64\", True)"
   ]
  },
  {
   "cell_type": "code",
   "execution_count": 27,
   "metadata": {},
   "outputs": [],
   "source": [
    "# random seed\n",
    "seed = 0\n",
    "\n",
    "# domains\n",
    "interior = Square(1.)\n",
    "boundary = SquareBoundary(1.)\n",
    "\n",
    "# integrators\n",
    "interior_integrator = DeterministicIntegrator(interior, 30)\n",
    "boundary_integrator = DeterministicIntegrator(boundary, 30)\n",
    "eval_integrator = DeterministicIntegrator(interior, 200)\n",
    "\n",
    "# model\n",
    "activation = lambda x : jnp.tanh(x)\n",
    "layer_sizes = [2, 32, 1]\n",
    "params = init_params(layer_sizes, random.PRNGKey(seed))\n",
    "model = mlp(activation)\n",
    "# model(params, x) 对数据维度进行 vmap\n",
    "v_model = vmap(model, (None, 0))"
   ]
  },
  {
   "cell_type": "code",
   "execution_count": 28,
   "metadata": {},
   "outputs": [],
   "source": [
    "# solution\n",
    "@jit\n",
    "def u_star(x):\n",
    "    return jnp.prod(jnp.sin(jnp.pi * x))\n",
    "\n",
    "# rhs\n",
    "@jit\n",
    "def f(x):\n",
    "    return 2. * jnp.pi**2 * u_star(x)\n",
    "\n",
    "# gramians\n",
    "gram_bdry = gram_factory(\n",
    "    model = model,\n",
    "    trafo = model_identity,\n",
    "    integrator = boundary_integrator\n",
    ")\n",
    "\n",
    "gram_laplace = gram_factory(\n",
    "    model = model,\n",
    "    trafo = model_laplace,\n",
    "    integrator = interior_integrator\n",
    ")"
   ]
  },
  {
   "cell_type": "code",
   "execution_count": 32,
   "metadata": {},
   "outputs": [],
   "source": [
    "g = pre_gram_factory(\n",
    "    model = model,\n",
    "    trafo = model_laplace,\n",
    ")"
   ]
  },
  {
   "cell_type": "code",
   "execution_count": 34,
   "metadata": {},
   "outputs": [],
   "source": [
    "data = interior.deterministic_integration_points(30)"
   ]
  },
  {
   "cell_type": "code",
   "execution_count": 37,
   "metadata": {},
   "outputs": [
    {
     "data": {
      "text/plain": [
       "Array([0.03448276, 0.03448276], dtype=float64)"
      ]
     },
     "execution_count": 37,
     "metadata": {},
     "output_type": "execute_result"
    }
   ],
   "source": [
    "data[0]"
   ]
  },
  {
   "cell_type": "code",
   "execution_count": 39,
   "metadata": {},
   "outputs": [
    {
     "data": {
      "text/plain": [
       "(129, 129)"
      ]
     },
     "execution_count": 39,
     "metadata": {},
     "output_type": "execute_result"
    }
   ],
   "source": [
    "g(params, data[0]).shape"
   ]
  },
  {
   "cell_type": "code",
   "execution_count": 29,
   "metadata": {},
   "outputs": [],
   "source": [
    "g_la = gram_laplace(params)"
   ]
  },
  {
   "cell_type": "code",
   "execution_count": 50,
   "metadata": {},
   "outputs": [
    {
     "data": {
      "text/plain": [
       "(129, 129)"
      ]
     },
     "execution_count": 50,
     "metadata": {},
     "output_type": "execute_result"
    }
   ],
   "source": [
    "g_la.shape"
   ]
  },
  {
   "cell_type": "code",
   "execution_count": 25,
   "metadata": {},
   "outputs": [],
   "source": [
    "p_flatten = jax.flatten_util.ravel_pytree(params)[0]"
   ]
  },
  {
   "cell_type": "code",
   "execution_count": 26,
   "metadata": {},
   "outputs": [
    {
     "data": {
      "text/plain": [
       "(2241,)"
      ]
     },
     "execution_count": 26,
     "metadata": {},
     "output_type": "execute_result"
    }
   ],
   "source": [
    "p_flatten.shape"
   ]
  },
  {
   "cell_type": "code",
   "execution_count": 13,
   "metadata": {},
   "outputs": [
    {
     "data": {
      "text/plain": [
       "(784, 2)"
      ]
     },
     "execution_count": 13,
     "metadata": {},
     "output_type": "execute_result"
    }
   ],
   "source": [
    "interior.deterministic_integration_points(30).shape"
   ]
  },
  {
   "cell_type": "code",
   "execution_count": 52,
   "metadata": {},
   "outputs": [],
   "source": [
    "def test_func(x):\n",
    "    return jnp.cos(x) + 1j*jnp.sin(x)"
   ]
  },
  {
   "cell_type": "code",
   "execution_count": 55,
   "metadata": {},
   "outputs": [],
   "source": [
    "grad_func = jax.grad(test_func)"
   ]
  },
  {
   "cell_type": "code",
   "execution_count": null,
   "metadata": {},
   "outputs": [],
   "source": []
  }
 ],
 "metadata": {
  "kernelspec": {
   "display_name": "ENGD",
   "language": "python",
   "name": "python3"
  },
  "language_info": {
   "codemirror_mode": {
    "name": "ipython",
    "version": 3
   },
   "file_extension": ".py",
   "mimetype": "text/x-python",
   "name": "python",
   "nbconvert_exporter": "python",
   "pygments_lexer": "ipython3",
   "version": "3.11.10"
  }
 },
 "nbformat": 4,
 "nbformat_minor": 2
}
